{
 "cells": [
  {
   "cell_type": "markdown",
   "metadata": {},
   "source": [
    "# Problem Set 1"
   ]
  },
  {
   "cell_type": "markdown",
   "metadata": {},
   "source": [
    "## Question 1 C#\n",
    "What datatype is each of the folllowing?"
   ]
  },
  {
   "cell_type": "code",
   "execution_count": 50,
   "metadata": {
    "scrolled": true
   },
   "outputs": [
    {
     "name": "stdout",
     "output_type": "stream",
     "text": [
      "5 is a interger\n",
      "5.0 is a floating point number\n",
      "5 > 1 is an relational operator\n",
      "'5' is a character\n",
      "5 * 2 is an arthmetic operator\n",
      "'5' * 2 is an arthmetic operator\n",
      "'5' + '2' an arthmetic operator\n",
      "5 / 2 is an arthmetic operator\n",
      "5 % 2 is an arthmetic operator\n",
      "{5, 2, 1} is an array\n",
      "'5 == 3' is a relational operator\n",
      "Pi is a floating point number\n"
     ]
    }
   ],
   "source": [
    "Console.WriteLine(\"5 is a interger\");\n",
    "Console.WriteLine(\"5.0 is a floating point number\");\n",
    "Console.WriteLine(\"5 > 1 is an relational operator\");\n",
    "Console.WriteLine(\"'5' is a character\");\n",
    "Console.WriteLine(\"5 * 2 is an arthmetic operator\");\n",
    "Console.WriteLine(\"'5' * 2 is an arthmetic operator\");\n",
    "Console.WriteLine(\"'5' + '2' an arthmetic operator\");\n",
    "Console.WriteLine(\"5 / 2 is an arthmetic operator\");\n",
    "Console.WriteLine(\"5 % 2 is an arthmetic operator\");\n",
    "Console.WriteLine(\"{5, 2, 1} is an array\");\n",
    "Console.WriteLine(\"'5 == 3' is a relational operator\");\n",
    "Console.WriteLine(\"Pi is a floating point number\");"
   ]
  },
  {
   "cell_type": "markdown",
   "metadata": {},
   "source": [
    "## Question 2 C#\n",
    "Write (and evaluate) C# expressions that answer these question\n",
    "\n",
    "    a. How many letters are there in 'Supercalifragilisticexpialidocious'?\n",
    "    b. Does 'Supercalifragilisticexpialidocious' contain 'ice' as a substring?\n",
    "    c. Which of the following words is the longest:\n",
    "        Supercalifragilisticexpialidocious, Honorificabilitudinitatibus, or Bababadalgharaghtakamminarronnkonn?\n",
    "    d. Which composer comes first in the dictionary: 'Berlioz', 'Borodin', 'Brian', 'Bartok', 'Bellini', 'Buxtehude', 'Bernstein'. Which one comes last?"
   ]
  },
  {
   "cell_type": "code",
   "execution_count": 51,
   "metadata": {},
   "outputs": [
    {
     "name": "stdout",
     "output_type": "stream",
     "text": [
      "The length of Supercalifragilisticexpialidocious is 34\r\n"
     ]
    }
   ],
   "source": [
    "//answer for a. How many letters are there in 'Supercalifragilisticexpialidocious'?\n",
    "\n",
    "string word1 = \"Supercalifragilisticexpialidocious\";\n",
    "Console.WriteLine($\"The length of {word1} is {word1.Length}\");\n"
   ]
  },
  {
   "cell_type": "code",
   "execution_count": 52,
   "metadata": {},
   "outputs": [
    {
     "name": "stdout",
     "output_type": "stream",
     "text": [
      "True\r\n"
     ]
    }
   ],
   "source": [
    "//answer for b. Does 'Supercalifragilisticexpialidocious' contain 'ice' as a substring?\n",
    "var result = word1.Contains(\"ice\");\n",
    "Console.WriteLine(result);"
   ]
  },
  {
   "cell_type": "code",
   "execution_count": 53,
   "metadata": {},
   "outputs": [
    {
     "name": "stdout",
     "output_type": "stream",
     "text": [
      "The length of Bababadalgharaghtakamminarronnkonn is 34\n",
      "The length of Honorificabilitudinitatibus is 27\n",
      "The length of Supercalifragilisticexpialidocious is 34\n"
     ]
    }
   ],
   "source": [
    "//answer for c. Which of the following words is the longest:Supercalifragilisticexpialidocious, Honorificabilitudinitatibus, or Bababadalgharaghtakamminarronnkonn?\n",
    "\n",
    "var words = new SortedSet<string>();\n",
    "    words.Add(\"Supercalifragilisticexpialidocious\");\n",
    "    words.Add(\"Honorificabilitudinitatibus\");\n",
    "    words.Add(\"Bababadalgharaghtakamminarronnkonn\");\n",
    "    foreach (var word in words)\n",
    "    {\n",
    "        Console.WriteLine($\"The length of {word} is {word.Length}\");\n",
    "    }"
   ]
  },
  {
   "cell_type": "code",
   "execution_count": 54,
   "metadata": {},
   "outputs": [
    {
     "name": "stdout",
     "output_type": "stream",
     "text": [
      "Bartok\n",
      "Bellini\n",
      "Berlioz\n",
      "Bernstein\n",
      "Borodin\n",
      "Brian\n",
      "Buxtehude\n"
     ]
    }
   ],
   "source": [
    "//answer for d. Which composer comes first in the dictionary: 'Berlioz', 'Borodin', 'Brian', 'Bartok', 'Bellini', 'Buxtehude', 'Bernstein'. Which one comes last?\n",
    "\n",
    "var names = new SortedSet<string>();\n",
    "    names.Add(\"Berlioz\");\n",
    "    names.Add(\"Borodin\");\n",
    "    names.Add(\"Brian\");\n",
    "    names.Add(\"Bartok\");\n",
    "    names.Add(\"Bellini\");\n",
    "    names.Add(\"Buxtehude\");\n",
    "    names.Add(\"Bernstein\");\n",
    "        foreach (var name in names)\n",
    "    {\n",
    "        Console.WriteLine(name);\n",
    "    }"
   ]
  },
  {
   "cell_type": "markdown",
   "metadata": {},
   "source": [
    "## Quesiton 3\n",
    "Implement function triangleArea(a,b,c) that takes as input the length of the 3 sides of a triangle and returns the area of the triangle. By Heron's formula, the area of a triangle with side lengths a, b, c is √s(s-a)(s-b)(s-c), where s = (a+b+c)/2"
   ]
  },
  {
   "cell_type": "code",
   "execution_count": 55,
   "metadata": {},
   "outputs": [
    {
     "name": "stdout",
     "output_type": "stream",
     "text": [
      "1.7320508\r\n"
     ]
    }
   ],
   "source": [
    "class TriangleArea\n",
    "\n",
    "    {    \n",
    "        public void Calculate(int a,int b,int c)\n",
    "        {\n",
    "            int s = (a+b+c)/2;\n",
    "            float area = MathF.Sqrt(s*(s - a)*(s - b)*(s - c));                              \n",
    "            Console.WriteLine(area);                    \n",
    "                 \n",
    "        }\n",
    "    }\n",
    "\n",
    "\n",
    "int a = 2;\n",
    "int b = 2;\n",
    "int c = 2;\n",
    "\n",
    "TriangleArea tri = new TriangleArea();\n",
    "\n",
    "tri.Calculate(a,b,c);"
   ]
  },
  {
   "cell_type": "markdown",
   "metadata": {},
   "source": [
    "## Question 4\n",
    "Write a program in C# Sharp to separate odd and even integers in separate arrays. "
   ]
  },
  {
   "cell_type": "code",
   "execution_count": 56,
   "metadata": {},
   "outputs": [
    {
     "name": "stdout",
     "output_type": "stream",
     "text": [
      "The Odd elements are: 25\n",
      "The Odd elements are: 47\n",
      "The Even elements are: 42\n",
      "The Even elements are: 56\n",
      "The Even elements are: 32\n"
     ]
    }
   ],
   "source": [
    "//Referenced from class note week 02 [30]\n",
    "//inserting the elements into the array: 5\n",
    "\n",
    "int[] arr = new int[5];\n",
    "        arr[0] = 25;\n",
    "        arr[1] = 47;\n",
    "        arr[2] = 42;\n",
    "        arr[3] = 56;\n",
    "        arr[4] = 32;\n",
    "\n",
    "        for (int i = 0; i < arr.Length; i++)\n",
    "            \n",
    "            if ((arr[i] % 2) == 0)\n",
    "                Console.WriteLine(\"The Even elements are: {0}\", arr[i]);\n",
    "            else if ((arr[i] % 2) != 0) \n",
    "                Console.WriteLine(\"The Odd elements are: {0}\", arr[i]);\n",
    "            \n",
    "        \n",
    "            \n",
    "    "
   ]
  },
  {
   "cell_type": "markdown",
   "metadata": {},
   "source": [
    "## Question 5 \n",
    "a. Write a function inside(x, y, x1, y1, x2, y2) that returns True or False depending on whether the point (x, y) lies in the rectangle with lower left corner (x1, y1) and upper right corner (x2, y2)\n",
    "b. Use function inside() from part a. to write an expression that tests whether the point (1, 1) lies in both of the following rectangles: one with lower left corner (0.3, 0.5) and upper right corner (1.1, 0.7) and the other with lower left corner (0.5, 0.2) and upper right corner (1.1, 2)."
   ]
  },
  {
   "cell_type": "code",
   "execution_count": 57,
   "metadata": {},
   "outputs": [
    {
     "name": "stdout",
     "output_type": "stream",
     "text": [
      "True\n",
      "False\n"
     ]
    }
   ],
   "source": [
    "class Rectangle\n",
    "{ \n",
    "\n",
    "    public void inside(int x, int y, int x1, int y1, int x2, int y2)\n",
    "    {\n",
    "        if (x > x1 && x < x2 && y > y1 && y < y2)\n",
    "        {\n",
    "            Console.WriteLine(\"True\");\n",
    "        }\n",
    "        else   \n",
    "            {\n",
    "                Console.WriteLine(\"False\");        \n",
    "            }\n",
    "    }  \n",
    "}   \n",
    "\n",
    "Rectangle check = new Rectangle();\n",
    "check.inside(1,1,0,0,2,3);\n",
    "check.inside(-1,-1,0,0,2,3);"
   ]
  },
  {
   "cell_type": "code",
   "execution_count": 58,
   "metadata": {},
   "outputs": [
    {
     "name": "stdout",
     "output_type": "stream",
     "text": [
      "False\n",
      "True\n"
     ]
    }
   ],
   "source": [
    "class Rectangle\n",
    "{\n",
    "public void inside2(double x, double y, double x1, double y1, double x2, double y2)\n",
    "    {\n",
    "        if (x > x1 && x < x2 && y > y1 && y < y2)\n",
    "        {\n",
    "            Console.WriteLine(\"True\");\n",
    "        }\n",
    "        else   \n",
    "            {\n",
    "                Console.WriteLine(\"False\");        \n",
    "            }\n",
    "            \n",
    "    }\n",
    "    \n",
    "}\n",
    "Rectangle check2 = new Rectangle();\n",
    "check2.inside2(1,1,0.3,0.5,1.1,0.7);\n",
    "check2.inside2(1,1,0.5,0.2,1.1, 2);"
   ]
  }
 ],
 "metadata": {
  "kernelspec": {
   "display_name": ".NET (C#)",
   "language": "C#",
   "name": ".net-csharp"
  },
  "language_info": {
   "file_extension": ".cs",
   "mimetype": "text/x-csharp",
   "name": "C#",
   "pygments_lexer": "csharp",
   "version": "9.0"
  }
 },
 "nbformat": 4,
 "nbformat_minor": 4
}
