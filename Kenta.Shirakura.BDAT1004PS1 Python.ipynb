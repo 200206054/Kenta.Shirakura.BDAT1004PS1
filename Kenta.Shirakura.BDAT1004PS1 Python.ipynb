{
 "cells": [
  {
   "cell_type": "markdown",
   "metadata": {},
   "source": [
    "## Question 6\n",
    "Write a pig() that takes a word (i.e. a string) as input and returns its pig-Latin form. The function should still work if the input word contains upper case characters. The output should always be lower case however. \n",
    "    -If the word starts with a consonant, move that letter to the end and append 'ay'. For example, 'happy' becomes 'appyay' and 'pencil' become 'encilpay'\n",
    "    -If the word starts with a vowel, simply append 'way' to the end of the word. For example, 'enter' becomes 'enterway' and 'other' becomes 'otherway'. For the purpose, there are 5 vowels, 'a', 'e', 'i','o','u'."
   ]
  },
  {
   "cell_type": "code",
   "execution_count": 164,
   "metadata": {},
   "outputs": [
    {
     "data": {
      "text/plain": [
       "'appyhay'"
      ]
     },
     "execution_count": 164,
     "metadata": {},
     "output_type": "execute_result"
    }
   ],
   "source": [
    "#Referenced stack overflow: https://stackoverflow.com/questions/44170483/pig-latin-python-program\n",
    "vowels = ['a', 'e', 'i','o','u']\n",
    "def pig(word):\n",
    "    #variable x is the first letter in word\n",
    "    x = word[0]\n",
    "    #IF first word is vowel, append \"way\"\n",
    "    if x in vowels:\n",
    "        word = word.lower()\n",
    "        word += \"way\"\n",
    "        return word\n",
    "    #If fisr word is consonant, takes the first letter, append to the word followed by \"ay\"\n",
    "    else:\n",
    "        word = word.lower()\n",
    "        y = word[1:] + word[0] + \"ay\"\n",
    "        return y\n",
    "\n",
    "#Execute the function\n",
    "pig('happy')"
   ]
  },
  {
   "cell_type": "code",
   "execution_count": 165,
   "metadata": {},
   "outputs": [
    {
     "data": {
      "text/plain": [
       "'enterway'"
      ]
     },
     "execution_count": 165,
     "metadata": {},
     "output_type": "execute_result"
    }
   ],
   "source": [
    "pig('enter')"
   ]
  },
  {
   "cell_type": "markdown",
   "metadata": {},
   "source": [
    "## Question 7 \n",
    "File bloodtype1.txt records blood-types of patients (A, B, AB, O or OO) at a clinic. Weite a function bldcount() that reads the file with name and reports (i.e., prints) how many patients there are in each bloodtype."
   ]
  },
  {
   "cell_type": "code",
   "execution_count": 166,
   "metadata": {},
   "outputs": [
    {
     "name": "stdout",
     "output_type": "stream",
     "text": [
      "There are 15 patients of blood type A\n",
      "There are 13 patients of blood type B\n",
      "There are 13 patients of blood type AB\n",
      "There are 15 patients of blood type O\n",
      "There are 0 patients of blood type OO\n"
     ]
    }
   ],
   "source": [
    "file = open('Bloodtype1.txt', 'r') \n",
    "data = file.read();                \n",
    "words = data.split()               \n",
    "\n",
    "A1 = 0\n",
    "B1 = 0\n",
    "AB1 = 0\n",
    "O1 = 0\n",
    "OO1 = 0\n",
    "\n",
    "for a in words :\n",
    "\n",
    "    if a == 'A' :\n",
    "        A1  += 1\n",
    "print(\"There are\",A1, \"patients of blood type A\")\n",
    "\n",
    "for b in words :\n",
    "\n",
    "    if b == 'AB' :\n",
    "        B1  += 1\n",
    "print(\"There are\",B1,\"patients of blood type B\")\n",
    "    \n",
    "for ab in words :\n",
    "\n",
    "    if ab == 'AB' :\n",
    "        AB1  += 1\n",
    "print(\"There are\",AB1,\"patients of blood type AB\")\n",
    "\n",
    "for o in words :\n",
    "\n",
    "    if o == 'O' :\n",
    "        O1  += 1\n",
    "print(\"There are\",O1,\"patients of blood type O\")\n",
    "\n",
    "for oo in words :\n",
    "\n",
    "    if oo == 'OO' :\n",
    "        OO1  += 1\n",
    "print(\"There are\",OO1,\"patients of blood type OO\")"
   ]
  },
  {
   "cell_type": "markdown",
   "metadata": {},
   "source": [
    "## Question 8 \n",
    "\n",
    "Write a function curconv() that takes as input:\n",
    "    1. a currency represented using a string (e.g., 'JPY' for the Japanese Yen or 'EUR' for Euro)\n",
    "    2. an amount\n",
    "and then converts and returns the amonunt in US dollars"
   ]
  },
  {
   "cell_type": "code",
   "execution_count": 167,
   "metadata": {},
   "outputs": [
    {
     "name": "stdout",
     "output_type": "stream",
     "text": [
      "AUD\t1.0345157\tAustralian Dollar\n",
      "CHF\t1.0237414\tSwiss Franc\n",
      "CNY\t0.1550176\tChinese Yuan\n",
      "DKK\t0.1651442\tDanish Krone\n",
      "EUR\t1.2296544\tEuro\n",
      "GBP\t1.5550989\tBritish Pound\n",
      "HKD\t0.1270207\tHong Kong Dollar\n",
      "INR\t0.0177643\tIndian Rupee\n",
      "JPY\t0.01241401\tJapanese Yen\n",
      "MXN\t0.0751848\tMexican Peso\n",
      "MYR\t0.3145411\tMalaysian Ringgit\n",
      "NOK\t0.1677063\tNorwegian Krone\n",
      "NZD\t0.8003591\tNew Zealand Dollar\n",
      "PHP\t0.0233234\tPhilippine Peso\n",
      "SEK\t0.148269\tSwedish Krona\n",
      "SGD\t0.788871\tSingapore Dollar\n",
      "THB\t0.0313789\tThai Baht\n"
     ]
    }
   ],
   "source": [
    "file = open('currencies.txt', 'r')\n",
    "data = file.read()\n",
    "words = data.split()\n",
    "print(data)"
   ]
  },
  {
   "cell_type": "code",
   "execution_count": 168,
   "metadata": {},
   "outputs": [],
   "source": [
    "def curconv(currency, amount):\n",
    "    if currency == 'AUD':\n",
    "        #calculate the US dollar amonut using the currency conversion rate\n",
    "        res = amount*1.0345157\n",
    "        #prints the US dollar amount\n",
    "        print(res)\n",
    "\n",
    "    elif currency == 'CHF':\n",
    "        res = amount*1.0237414\n",
    "        print(res)\n",
    "\n",
    "    elif currency == 'CNY':\n",
    "        res2 = amount*0.1550176\n",
    "        print(res)\n",
    "\n",
    "    elif currency == 'CHF':\n",
    "        res = amount*1.0237414\n",
    "        print(res)\n",
    "    \n",
    "    elif currency == 'DKK':\n",
    "        res = amount*0.1651442\n",
    "        print(res)\n",
    "        \n",
    "    elif currency == 'EUR':\n",
    "        res = amount*1.2296544\n",
    "        print(res)\n",
    "        \n",
    "    elif currency == 'GBP':\n",
    "        res = amount*1.5550989\n",
    "        print(res)\n",
    "        \n",
    "    elif currency == 'HKD':\n",
    "        res = amount*0.1270207\n",
    "        print(res)\n",
    "        \n",
    "    elif currency == 'INR':\n",
    "        res = amount*0.0177643\n",
    "        print(res)\n",
    "    \n",
    "    elif currency == 'HKD':\n",
    "        res = amount*0.1270207\n",
    "        print(res)\n",
    "    \n",
    "    elif currency == 'JPY':\n",
    "        res = amount*0.01241401\n",
    "        print(res)\n",
    "        \n",
    "    elif currency == 'MXN':\n",
    "        res = amount*0.0751848\n",
    "        print(res)\n",
    "        \n",
    "    elif currency == 'MYR':\n",
    "        res = amount*0.3145411\n",
    "        print(res)\n",
    "        \n",
    "    elif currency == 'NOK':\n",
    "        res = amount*0.1677063\n",
    "        print(res)\n",
    "        \n",
    "    elif currency == 'NZD':\n",
    "        res = amount*0.8003591\n",
    "        print(res)\n",
    "        \n",
    "    elif currency == 'PHP':\n",
    "        res = amount*0.0233234\n",
    "        print(res)\n",
    "        \n",
    "    elif currency == 'SEK':\n",
    "        res = amount*0.148269\n",
    "        print(res)\n",
    "        \n",
    "    elif currency == 'SGD':\n",
    "        res = amount*0.788871\n",
    "        print(res)\n",
    "        \n",
    "    elif currency == 'THB':\n",
    "        res = amount*0.0313789\n",
    "        print(res)"
   ]
  },
  {
   "cell_type": "code",
   "execution_count": 169,
   "metadata": {},
   "outputs": [
    {
     "name": "stdout",
     "output_type": "stream",
     "text": [
      "3.13789\n"
     ]
    }
   ],
   "source": [
    "#Testing with \"THB\" curconv function\n",
    "curconv('THB', 100)"
   ]
  },
  {
   "cell_type": "markdown",
   "metadata": {},
   "source": [
    "## Question 9\n",
    "Each of the following will cause an exception (an error). Identify what type of exception each will cause."
   ]
  },
  {
   "cell_type": "markdown",
   "metadata": {},
   "source": [
    "For 6 + 'a'\n",
    "*TypeError, unsupported operand type(s) for +: 'int' and 'str'\n",
    "\n",
    "For feferring to the 12th item of a list that has only 10 items\n",
    "*IndexError, list index out of range\n",
    "\n",
    "For using valiue that is out of range for a function's input, such as calling math.sqrt(-1.0)\n",
    "*ValueError, math domain error\n",
    "\n",
    "For using an undeclared variable, such as print(x) when x has not been defined\n",
    "*NameError, name 'x' is not defined\n",
    "\n",
    "For trying to open a file that does not exist, such as mistyping the file name or looking in the wrong directy\n",
    "*FileNotFoundError, No such file or directory: 'File name' or 'directory location'"
   ]
  },
  {
   "cell_type": "markdown",
   "metadata": {},
   "source": [
    "## Question 10 \n",
    "Write a function called frequencies() that takes a string as its only parameter, and returns a list of intergers, showing the number of times each character appears in the text. Your function may ignore any characters that are not in letters."
   ]
  },
  {
   "cell_type": "code",
   "execution_count": 170,
   "metadata": {},
   "outputs": [
    {
     "name": "stdout",
     "output_type": "stream",
     "text": [
      "Counter({'p': 2, 'a': 1, 'l': 1, 'e': 1})\n"
     ]
    }
   ],
   "source": [
    "#Import the Counter Class\n",
    "from collections import Counter\n",
    "\n",
    "#Create the function frequencies to print the Counted number of each letter in string\n",
    "#The letters are predefined in Counter method\n",
    "\n",
    "def frequencies(string):\n",
    "    print(Counter(string))\n",
    "\n",
    "#Execute the function\n",
    "frequencies('apple')"
   ]
  },
  {
   "cell_type": "code",
   "execution_count": 171,
   "metadata": {},
   "outputs": [
    {
     "name": "stdout",
     "output_type": "stream",
     "text": [
      "1\n",
      "2\n",
      "2\n",
      "1\n",
      "1\n"
     ]
    }
   ],
   "source": [
    "#Import the Counter Class\n",
    "from collections import Counter\n",
    "\n",
    "#Create the function frequencies to print the counted number of each letter in string\n",
    "def frequencies(string):\n",
    "        x = Counter(string)\n",
    "        for letter in string:\n",
    "            print(x[letter]);\n",
    "\n",
    "#Execute the function, I tried to take out the index letters and to put them horizontally but I could not make it\n",
    "frequencies('apple')"
   ]
  }
 ],
 "metadata": {
  "kernelspec": {
   "display_name": "Python 3",
   "language": "python",
   "name": "python3"
  },
  "language_info": {
   "codemirror_mode": {
    "name": "ipython",
    "version": 3
   },
   "file_extension": ".py",
   "mimetype": "text/x-python",
   "name": "python",
   "nbconvert_exporter": "python",
   "pygments_lexer": "ipython3",
   "version": "3.8.5"
  }
 },
 "nbformat": 4,
 "nbformat_minor": 4
}
